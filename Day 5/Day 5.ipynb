{
 "cells": [
  {
   "cell_type": "code",
   "execution_count": 1,
   "metadata": {},
   "outputs": [],
   "source": [
    "import re \n",
    "import tweepy \n",
    "from tweepy import OAuthHandler \n",
    "from textblob import TextBlob\n",
    "import matplotlib\n",
    "import nltk"
   ]
  },
  {
   "cell_type": "code",
   "execution_count": 2,
   "metadata": {},
   "outputs": [],
   "source": [
    "class TwitterClient(object): \n",
    "    ''' \n",
    "    Generic Twitter Class for sentiment analysis. \n",
    "    '''\n",
    "    def __init__(self): \n",
    "        \n",
    "        consumer_key = 'AHHD9WPdpXNTtkqkeHaUaTlfO'\n",
    "        consumer_secret = '2q1C2fFKBeM7buHtInuH97WYhu2cTpMfBH9ztkXTalgGUbEkUz'\n",
    "        access_token = '1259064378839760896-zD7g53D49HSJM5EljOBrrPoibnhJRt'\n",
    "        access_token_secret = 'NyFPEQcqUBk3eEvJaOyHP0xyTVmp3flKVac4pCn1IDDfH'\n",
    "  \n",
    "       \n",
    "        try: \n",
    "            self.auth = OAuthHandler(consumer_key, consumer_secret) \n",
    "            self.auth.set_access_token(access_token, access_token_secret) \n",
    "            self.api = tweepy.API(self.auth) \n",
    "        except: \n",
    "            print(\"Error: Authentication Failed\") \n",
    "  \n",
    "    def clean_tweet(self, tweet): \n",
    "        \n",
    "        return ' '.join(re.sub(\"(@[A-Za-z0-9]+)|([^0-9A-Za-z \\t])|(\\w+:\\/\\/\\S+)\", \" \", tweet).split()) \n",
    "  \n",
    "    def get_tweet_sentiment(self, tweet): \n",
    "        \n",
    "        analysis = TextBlob(self.clean_tweet(tweet)) \n",
    "        if analysis.sentiment.polarity > 0: \n",
    "            return 'non-toxic'\n",
    "        elif analysis.sentiment.polarity == 0: \n",
    "            return 'neutral'\n",
    "        else: \n",
    "            return 'toxic'\n",
    "  \n",
    "    def get_tweets(self, query, count = 10):\n",
    "        \n",
    "        tweets = [] \n",
    "  \n",
    "        try:  \n",
    "            fetched_tweets = self.api.search(q = query, count = count) \n",
    "            for tweet in fetched_tweets: \n",
    "                parsed_tweet = {}\n",
    "                parsed_tweet['text'] = tweet.text \n",
    "                parsed_tweet['sentiment'] = self.get_tweet_sentiment(tweet.text) \n",
    "                if tweet.retweet_count > 0: \n",
    "                    if parsed_tweet not in tweets: \n",
    "                        tweets.append(parsed_tweet) \n",
    "                else: \n",
    "                    tweets.append(parsed_tweet)\n",
    "            return tweets \n",
    "  \n",
    "        except tweepy.TweepError as e: \n",
    "            print(f\"Error : {str(e)}\")"
   ]
  },
  {
   "cell_type": "code",
   "execution_count": 3,
   "metadata": {},
   "outputs": [],
   "source": [
    "api = TwitterClient()"
   ]
  },
  {
   "cell_type": "code",
   "execution_count": 4,
   "metadata": {},
   "outputs": [],
   "source": [
    "tweets = api.get_tweets(query = 'MHRD', count = 200)"
   ]
  },
  {
   "cell_type": "code",
   "execution_count": 5,
   "metadata": {},
   "outputs": [
    {
     "name": "stdout",
     "output_type": "stream",
     "text": [
      "Non-toxic tweets percentage: 20.253164556962027 %\n"
     ]
    }
   ],
   "source": [
    "ptweets = [tweet for tweet in tweets if tweet['sentiment'] == 'non-toxic'] \n",
    "print(f\"Non-toxic tweets percentage: {100*len(ptweets)/len(tweets)} %\")"
   ]
  },
  {
   "cell_type": "code",
   "execution_count": 6,
   "metadata": {},
   "outputs": [
    {
     "name": "stdout",
     "output_type": "stream",
     "text": [
      "Toxic tweets percentage: 3.7974683544303796 %\n"
     ]
    }
   ],
   "source": [
    "ntweets = [tweet for tweet in tweets if tweet['sentiment'] == 'toxic']\n",
    "print(f\"Toxic tweets percentage: {100*len(ntweets)/len(tweets)} %\")"
   ]
  },
  {
   "cell_type": "code",
   "execution_count": 8,
   "metadata": {},
   "outputs": [
    {
     "name": "stdout",
     "output_type": "stream",
     "text": [
      "Neutral tweets percentage: 75.9493670886076 %\n"
     ]
    }
   ],
   "source": [
    "print(f\"Neutral tweets percentage: {100*(len(tweets) -(len( ntweets )+len( ptweets)))/len(tweets)} %\")"
   ]
  },
  {
   "cell_type": "code",
   "execution_count": 9,
   "metadata": {},
   "outputs": [
    {
     "name": "stdout",
     "output_type": "stream",
     "text": [
      "Non-toxic tweets:\n",
      "Interesting Leadership Talk organized by @mhrd_innovation\n",
      "with Prof. DP Singh, Chairman \n",
      "@abhayjere\n",
      "@DrRPNishank… https://t.co/p0qaJiqkII\n",
      "RT @IICPTVAIM: Interesting Leadership Talk with Mr. Gautam Bambawale, Ex-India's Ambassador to China on how this Covid crisis offers unique…\n",
      "@ModyUniversity how exactly will you sanitize the mess that is supposed to make food for thousands of students?… https://t.co/LKWYpBghCs\n",
      "@DrRPNishank #change_mhrd_minister 😂😂😂\n",
      "Majak krr rha hu lekin jee ke bare me bataiye kuch #postponejee #postponeneet #postponeExam\n",
      "@ModyUniversity  is exam/money that important to you that you can't see you are putting soooo many lives at risk?… https://t.co/kWU2t6leXt\n",
      "The cases of covid19 are increasing day by day. Even then the govt wants us to give exam. If anything happens to st… https://t.co/VbUbMeBhYM\n",
      "Interesting Leadership Talk organized by @mhrd_innovation\n",
      "with Dr. Madhuri Kanitkar, Lieutenant General who is the… https://t.co/fFZoLjOhrU\n",
      "RT @Sushmita_101: @ModyUniversity its your time to show your support for your own students.\n",
      "@ashokgehlot51 @HRDMinistry @AICTE_INDIA @fayed…\n",
      "Interesting Leadership Talk with Dr.BVR Mohan Reddy, Chairman Cyient &amp; Ex-Chairman NASSCOM organized by… https://t.co/oVy8Q9AvP1\n",
      "Interesting Leadership Talk with Mr. Gautam Bambawale, Ex-India's Ambassador to China on how this Covid crisis offe… https://t.co/mnIzbERMWb\n"
     ]
    }
   ],
   "source": [
    "print(\"Non-toxic tweets:\")\n",
    "for tweet in ptweets[:10]:\n",
    "  print(tweet['text'])"
   ]
  },
  {
   "cell_type": "code",
   "execution_count": 10,
   "metadata": {},
   "outputs": [
    {
     "name": "stdout",
     "output_type": "stream",
     "text": [
      "Toxic tweets:\n",
      "RT @dractonixx: The government is taking a very big risk by conducting the jee mains and neet exams at a time when the expected coronavirus…\n",
      "RT @Sushmita_101: @ModyUniversity understand the difficult situation we are in.\n",
      "Cancel exams.\n",
      "Promote students.\n",
      "@ashokgehlot51 @HRDMinistry…\n",
      "@ModyUniversity understand the difficult situation we are in.\n",
      "Cancel exams.\n",
      "Promote students.\n",
      "@ashokgehlot51… https://t.co/gybSBE1Rb5\n"
     ]
    }
   ],
   "source": [
    "print(\"Toxic tweets:\") \n",
    "for tweet in ntweets[:10]:\n",
    "  print(tweet['text'])"
   ]
  },
  {
   "cell_type": "code",
   "execution_count": null,
   "metadata": {},
   "outputs": [],
   "source": []
  }
 ],
 "metadata": {
  "kernelspec": {
   "display_name": "Python 3",
   "language": "python",
   "name": "python3"
  },
  "language_info": {
   "codemirror_mode": {
    "name": "ipython",
    "version": 3
   },
   "file_extension": ".py",
   "mimetype": "text/x-python",
   "name": "python",
   "nbconvert_exporter": "python",
   "pygments_lexer": "ipython3",
   "version": "3.7.6"
  }
 },
 "nbformat": 4,
 "nbformat_minor": 4
}
