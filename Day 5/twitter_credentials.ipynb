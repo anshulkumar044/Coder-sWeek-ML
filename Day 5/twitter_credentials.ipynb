{
 "cells": [
  {
   "cell_type": "code",
   "execution_count": null,
   "metadata": {},
   "outputs": [],
   "source": [
    "\n",
    "ACCESS_TOKEN = \"1259064378839760896-JPpon9VR07QvaBoF67V5zjFTjIlDB1\"            \n",
    "ACCESS_TOKEN_SECRET = \"2L6vweUAPOBlvA45YETVxW1pd2jfUz1BXSzlTzjh6Xp6s\" \n",
    "CONSUMER_KEY = \"AHHD9WPdpXNTtkqkeHaUaTlfO\"\n",
    "CONSUMER_SECRET = \"2q1C2fFKBeM7buHtInuH97WYhu2cTpMfBH9ztkXTalgGUbEkUz\"\n",
    "\n",
    "\n",
    "\n",
    "     \n",
    "\n",
    "\n",
    "    "
   ]
  }
 ],
 "metadata": {
  "kernelspec": {
   "display_name": "Python 3",
   "language": "python",
   "name": "python3"
  },
  "language_info": {
   "codemirror_mode": {
    "name": "ipython",
    "version": 3
   },
   "file_extension": ".py",
   "mimetype": "text/x-python",
   "name": "python",
   "nbconvert_exporter": "python",
   "pygments_lexer": "ipython3",
   "version": "3.7.6"
  }
 },
 "nbformat": 4,
 "nbformat_minor": 4
}
